{
  "cells": [
    {
      "cell_type": "markdown",
      "id": "ljxNwyjZ1GCh",
      "metadata": {
        "id": "ljxNwyjZ1GCh"
      },
      "source": [
        "# Training Notebook — AI Motion & AI Tapper (scikit-learn + joblib)\n",
        "\n",
        "Notebook ini melatih model untuk:\n",
        "- **AI Motion**: `fatigue_level`, `stroke_type`, `movement_quality` (klasifikasi)\n",
        "- **AI Tapper**: `safe_class` (klasifikasi) dan `optimal_threshold_cm` (regresi)\n",
        "\n",
        "> Dataset: `ai_motion_historic_v2.csv`, `ai_tapper_historic_v2.csv` (5000 baris)."
      ]
    },
    {
      "cell_type": "code",
      "execution_count": 1,
      "id": "I3G46FD01GCi",
      "metadata": {
        "colab": {
          "base_uri": "https://localhost:8080/"
        },
        "id": "I3G46FD01GCi",
        "outputId": "4ab7e595-a37c-45ad-bf57-0383e32217dc"
      },
      "outputs": [
        {
          "data": {
            "text/plain": [
              "(  athlete_id session_id sensor_id  timestamp_s  body_roll_deg  pitch_deg  \\\n",
              " 0       A007       S001    SENS03            1           4.44      17.90   \n",
              " 1       A007       S001    SENS03            2           3.23      11.83   \n",
              " 2       A007       S001    SENS03            3          -3.11      18.94   \n",
              " 3       A007       S001    SENS03            4          -1.31      14.08   \n",
              " 4       A007       S001    SENS03            5          -6.33      14.92   \n",
              " \n",
              "    yaw_deg  stroke_rate_spm  lap_speed_mps   stroke_type fatigue_level  \\\n",
              " 0     6.09            34.89          1.180  Breaststroke           Low   \n",
              " 1     6.92            37.71          1.059  Breaststroke           Low   \n",
              " 2     7.22            32.88          1.034  Breaststroke           Low   \n",
              " 3     3.31            37.36          0.947  Breaststroke           Low   \n",
              " 4     6.29            34.13          1.172  Breaststroke           Low   \n",
              " \n",
              "   movement_quality  \n",
              " 0           Medium  \n",
              " 1              Bad  \n",
              " 2              Bad  \n",
              " 3             Good  \n",
              " 4           Medium  ,\n",
              "   athlete_id session_id sensor_id  timestamp_s  distance_cm  time_to_wall_s  \\\n",
              " 0       A007       S001    SENS03            1       2386.3           20.23   \n",
              " 1       A007       S001    SENS03            2       2278.1           21.52   \n",
              " 2       A007       S001    SENS03            3       2169.7           20.98   \n",
              " 3       A007       S001    SENS03            4       2074.3           21.90   \n",
              " 4       A007       S001    SENS03            5       1959.7           16.72   \n",
              " \n",
              "    speed_mps  pace_s_per_25m  th_early_cm  th_urgent_cm  th_safety_cm  \\\n",
              " 0      1.180           21.19        197.0         132.0          63.1   \n",
              " 1      1.059           23.61        197.8         120.4          67.3   \n",
              " 2      1.034           24.17        208.0         137.2          55.7   \n",
              " 3      0.947           26.39        194.1         127.4          72.1   \n",
              " 4      1.172           21.34        198.0         110.3          63.5   \n",
              " \n",
              "   safe_class  optimal_threshold_cm  \n",
              " 0       Safe                  94.3  \n",
              " 1       Safe                  93.6  \n",
              " 2       Safe                  95.3  \n",
              " 3       Safe                 101.6  \n",
              " 4       Safe                  86.8  )"
            ]
          },
          "execution_count": 1,
          "metadata": {},
          "output_type": "execute_result"
        }
      ],
      "source": [
        "import pandas as pd\n",
        "import numpy as np\n",
        "from sklearn.model_selection import train_test_split\n",
        "from sklearn.metrics import accuracy_score, classification_report, mean_absolute_error, r2_score\n",
        "from sklearn.pipeline import Pipeline\n",
        "from sklearn.preprocessing import StandardScaler\n",
        "from sklearn.ensemble import RandomForestClassifier, RandomForestRegressor\n",
        "import joblib\n",
        "from pathlib import Path\n",
        "\n",
        "motion_path = Path(\"ai_motion.csv\")\n",
        "tapper_path = Path(\"ai_tapper.csv\")\n",
        "dfm = pd.read_csv(motion_path)\n",
        "dft = pd.read_csv(tapper_path)\n",
        "\n",
        "dfm.head(), dft.head()"
      ]
    },
    {
      "cell_type": "markdown",
      "id": "lUP9_BF01GCj",
      "metadata": {
        "id": "lUP9_BF01GCj"
      },
      "source": [
        "## 1) AI Motion — Train models (fatigue_level, stroke_type, movement_quality)"
      ]
    },
    {
      "cell_type": "code",
      "execution_count": null,
      "id": "9TUxF5Eb2lF3",
      "metadata": {
        "colab": {
          "base_uri": "https://localhost:8080/"
        },
        "id": "9TUxF5Eb2lF3",
        "outputId": "84a1ab50-2624-478a-93b3-c996e170d4cd"
      },
      "outputs": [
        {
          "name": "stdout",
          "output_type": "stream",
          "text": [
            "[fatigue_model] accuracy = 0.509\n",
            "              precision    recall  f1-score   support\n",
            "\n",
            "        High       0.58      0.56      0.57       301\n",
            "         Low       0.51      0.50      0.51       300\n",
            "      Medium       0.46      0.48      0.47       399\n",
            "\n",
            "    accuracy                           0.51      1000\n",
            "   macro avg       0.52      0.51      0.51      1000\n",
            "weighted avg       0.51      0.51      0.51      1000\n",
            "\n",
            "[stroke_model] accuracy = 0.993\n",
            "              precision    recall  f1-score   support\n",
            "\n",
            "  Backstroke       1.00      0.99      1.00       282\n",
            "Breaststroke       1.00      0.99      0.99       254\n",
            "   Butterfly       0.99      0.99      0.99       233\n",
            "   Freestyle       0.99      1.00      0.99       231\n",
            "\n",
            "    accuracy                           0.99      1000\n",
            "   macro avg       0.99      0.99      0.99      1000\n",
            "weighted avg       0.99      0.99      0.99      1000\n",
            "\n",
            "[movement_quality_model] accuracy = 0.782\n",
            "              precision    recall  f1-score   support\n",
            "\n",
            "         Bad       0.87      0.64      0.74       221\n",
            "        Good       0.85      0.75      0.80       314\n",
            "      Medium       0.72      0.87      0.79       465\n",
            "\n",
            "    accuracy                           0.78      1000\n",
            "   macro avg       0.81      0.75      0.78      1000\n",
            "weighted avg       0.80      0.78      0.78      1000\n",
            "\n"
          ]
        }
      ],
      "source": [
        "# Dataset (ubah path sesuai file CSV yang kamu upload di Colab)\n",
        "dfm = pd.read_csv(\"ai_motion.csv\")\n",
        "\n",
        "motion_features = [\"body_roll_deg\",\"pitch_deg\",\"yaw_deg\",\"stroke_rate_spm\",\"lap_speed_mps\"]\n",
        "\n",
        "def train_motion_classifier(target_col, model_name):\n",
        "    X = dfm[motion_features].values\n",
        "    y = dfm[target_col].values\n",
        "    X_train, X_test, y_train, y_test = train_test_split(X, y, test_size=0.2, stratify=y, random_state=42)\n",
        "\n",
        "    pipe = Pipeline([\n",
        "        (\"scaler\", StandardScaler()),\n",
        "        (\"clf\", RandomForestClassifier(n_estimators=250, random_state=42))\n",
        "    ])\n",
        "\n",
        "    pipe.fit(X_train, y_train)\n",
        "    y_pred = pipe.predict(X_test)\n",
        "\n",
        "    acc = accuracy_score(y_test, y_pred)\n",
        "    print(f\"[{model_name}] accuracy = {acc:.3f}\")\n",
        "    print(classification_report(y_test, y_pred))\n",
        "\n",
        "    # Simpan model ke file pkl di /content/\n",
        "    joblib.dump(pipe, f\"{model_name}.pkl\", compress=9)\n",
        "    # return acc\n",
        "\n",
        "# Train Model\n",
        "acc_fatigue = train_motion_classifier(\"fatigue_level\", \"fatigue_model\")\n",
        "acc_stroke  = train_motion_classifier(\"stroke_type\", \"stroke_model\")\n",
        "acc_move    = train_motion_classifier(\"movement_quality\", \"movement_quality_model\")"
      ]
    },
    {
      "cell_type": "markdown",
      "id": "lKfzLbZm1GCk",
      "metadata": {
        "id": "lKfzLbZm1GCk"
      },
      "source": [
        "## 2) AI Tapper — Train models (safe_class, optimal_threshold_cm)"
      ]
    },
    {
      "cell_type": "code",
      "execution_count": null,
      "id": "kor0fYG51GCk",
      "metadata": {
        "colab": {
          "base_uri": "https://localhost:8080/"
        },
        "id": "kor0fYG51GCk",
        "outputId": "33220837-0349-4025-c9cd-1e9fce07ec78"
      },
      "outputs": [
        {
          "name": "stdout",
          "output_type": "stream",
          "text": [
            "[safe_model] accuracy = 1.000\n",
            "              precision    recall  f1-score   support\n",
            "\n",
            "        Safe       1.00      1.00      1.00       922\n",
            "      Urgent       1.00      1.00      1.00        41\n",
            "     Warning       1.00      1.00      1.00        37\n",
            "\n",
            "    accuracy                           1.00      1000\n",
            "   macro avg       1.00      1.00      1.00      1000\n",
            "weighted avg       1.00      1.00      1.00      1000\n",
            "\n",
            "[threshold_model] MAE = 1.53, R2 = 0.910\n"
          ]
        },
        {
          "data": {
            "text/plain": [
              "['threshold_model.pkl']"
            ]
          },
          "execution_count": 3,
          "metadata": {},
          "output_type": "execute_result"
        }
      ],
      "source": [
        "# Import library di cell awal Colab\n",
        "import pandas as pd\n",
        "import numpy as np\n",
        "from sklearn.model_selection import train_test_split\n",
        "from sklearn.metrics import accuracy_score, classification_report, mean_absolute_error, r2_score\n",
        "from sklearn.pipeline import Pipeline\n",
        "from sklearn.preprocessing import StandardScaler\n",
        "from sklearn.ensemble import RandomForestClassifier, RandomForestRegressor\n",
        "import joblib\n",
        "\n",
        "# Load dataset Tapper (ubah path sesuai lokasi file di Colab)\n",
        "dft = pd.read_csv(\"ai_tapper.csv\")\n",
        "\n",
        "# Fitur\n",
        "tapper_cls_features = [\"distance_cm\",\"time_to_wall_s\",\"speed_mps\",\"pace_s_per_25m\"]\n",
        "tapper_reg_features = [\"distance_cm\",\"speed_mps\",\"pace_s_per_25m\",\n",
        "                       \"th_early_cm\",\"th_urgent_cm\",\"th_safety_cm\",\"time_to_wall_s\"]\n",
        "\n",
        "# -----------------------------\n",
        "# Safe class (classification)\n",
        "# -----------------------------\n",
        "Xc = dft[tapper_cls_features].values\n",
        "yc = dft[\"safe_class\"].values\n",
        "\n",
        "Xc_train, Xc_test, yc_train, yc_test = train_test_split(\n",
        "    Xc, yc, test_size=0.2, stratify=yc, random_state=42\n",
        ")\n",
        "\n",
        "pipe_safe = Pipeline([\n",
        "    (\"scaler\", StandardScaler()),\n",
        "    (\"clf\", RandomForestClassifier(n_estimators=250, random_state=42))\n",
        "])\n",
        "\n",
        "pipe_safe.fit(Xc_train, yc_train)\n",
        "yc_pred = pipe_safe.predict(Xc_test)\n",
        "\n",
        "acc_safe = accuracy_score(yc_test, yc_pred)\n",
        "print(f\"[safe_model] accuracy = {acc_safe:.3f}\")\n",
        "print(classification_report(yc_test, yc_pred))\n",
        "\n",
        "# Simpan model ke /content/\n",
        "joblib.dump(pipe_safe, \"safe_model.pkl\", compress=9)\n",
        "\n",
        "# -----------------------------\n",
        "# Threshold (regression)\n",
        "# -----------------------------\n",
        "Xr = dft[tapper_reg_features].values\n",
        "yr = dft[\"optimal_threshold_cm\"].values\n",
        "\n",
        "Xr_train, Xr_test, yr_train, yr_test = train_test_split(\n",
        "    Xr, yr, test_size=0.2, random_state=42\n",
        ")\n",
        "\n",
        "pipe_th = Pipeline([\n",
        "    (\"scaler\", StandardScaler()),\n",
        "    (\"reg\", RandomForestRegressor(n_estimators=350, random_state=42))\n",
        "])\n",
        "\n",
        "pipe_th.fit(Xr_train, yr_train)\n",
        "yr_pred = pipe_th.predict(Xr_test)\n",
        "\n",
        "mae = mean_absolute_error(yr_test, yr_pred)\n",
        "r2  = r2_score(yr_test, yr_pred)\n",
        "print(f\"[threshold_model] MAE = {mae:.2f}, R2 = {r2:.3f}\")\n",
        "\n",
        "# Import Model\n",
        "joblib.dump(pipe_th, \"threshold_model.pkl\", compress=9)\n"
      ]
    }
  ],
  "metadata": {
    "colab": {
      "provenance": []
    },
    "kernelspec": {
      "display_name": "base",
      "language": "python",
      "name": "python3"
    },
    "language_info": {
      "codemirror_mode": {
        "name": "ipython",
        "version": 3
      },
      "file_extension": ".py",
      "mimetype": "text/x-python",
      "name": "python",
      "nbconvert_exporter": "python",
      "pygments_lexer": "ipython3",
      "version": "3.12.4"
    }
  },
  "nbformat": 4,
  "nbformat_minor": 5
}
